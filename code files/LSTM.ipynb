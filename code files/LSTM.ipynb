{
  "nbformat": 4,
  "nbformat_minor": 0,
  "metadata": {
    "colab": {
      "name": "OPINION-FACT CLASSIFICATION-IR Project - LSTM.ipynb",
      "provenance": []
    },
    "kernelspec": {
      "name": "python3",
      "display_name": "Python 3"
    }
  },
  "cells": [
    {
      "cell_type": "markdown",
      "metadata": {
        "id": "6rcYCu-4eYVi",
        "colab_type": "text"
      },
      "source": [
        "## **IMPORTING REQUIRED MODULES**"
      ]
    },
    {
      "cell_type": "code",
      "metadata": {
        "id": "w-B27WfoMWhK",
        "colab_type": "code",
        "outputId": "5f9a6f6e-4155-495f-c80d-5fd954c390af",
        "colab": {
          "base_uri": "https://localhost:8080/",
          "height": 218
        }
      },
      "source": [
        "pip install keras-metrics"
      ],
      "execution_count": 1,
      "outputs": [
        {
          "output_type": "stream",
          "text": [
            "Collecting keras-metrics\n",
            "  Downloading https://files.pythonhosted.org/packages/32/c9/a87420da8e73de944e63a8e9cdcfb1f03ca31a7c4cdcdbd45d2cdf13275a/keras_metrics-1.1.0-py2.py3-none-any.whl\n",
            "Requirement already satisfied: Keras>=2.1.5 in /usr/local/lib/python3.6/dist-packages (from keras-metrics) (2.3.1)\n",
            "Requirement already satisfied: scipy>=0.14 in /usr/local/lib/python3.6/dist-packages (from Keras>=2.1.5->keras-metrics) (1.4.1)\n",
            "Requirement already satisfied: numpy>=1.9.1 in /usr/local/lib/python3.6/dist-packages (from Keras>=2.1.5->keras-metrics) (1.18.4)\n",
            "Requirement already satisfied: keras-applications>=1.0.6 in /usr/local/lib/python3.6/dist-packages (from Keras>=2.1.5->keras-metrics) (1.0.8)\n",
            "Requirement already satisfied: pyyaml in /usr/local/lib/python3.6/dist-packages (from Keras>=2.1.5->keras-metrics) (3.13)\n",
            "Requirement already satisfied: six>=1.9.0 in /usr/local/lib/python3.6/dist-packages (from Keras>=2.1.5->keras-metrics) (1.12.0)\n",
            "Requirement already satisfied: h5py in /usr/local/lib/python3.6/dist-packages (from Keras>=2.1.5->keras-metrics) (2.10.0)\n",
            "Requirement already satisfied: keras-preprocessing>=1.0.5 in /usr/local/lib/python3.6/dist-packages (from Keras>=2.1.5->keras-metrics) (1.1.0)\n",
            "Installing collected packages: keras-metrics\n",
            "Successfully installed keras-metrics-1.1.0\n"
          ],
          "name": "stdout"
        }
      ]
    },
    {
      "cell_type": "code",
      "metadata": {
        "id": "t3hI3tAHMeCj",
        "colab_type": "code",
        "outputId": "c19a519e-42b2-4f43-f78d-ce1126c6c0b1",
        "colab": {
          "base_uri": "https://localhost:8080/",
          "height": 252
        }
      },
      "source": [
        "pip install scikit-plot"
      ],
      "execution_count": 2,
      "outputs": [
        {
          "output_type": "stream",
          "text": [
            "Collecting scikit-plot\n",
            "  Downloading https://files.pythonhosted.org/packages/7c/47/32520e259340c140a4ad27c1b97050dd3254fdc517b1d59974d47037510e/scikit_plot-0.3.7-py3-none-any.whl\n",
            "Requirement already satisfied: matplotlib>=1.4.0 in /usr/local/lib/python3.6/dist-packages (from scikit-plot) (3.2.1)\n",
            "Requirement already satisfied: scikit-learn>=0.18 in /usr/local/lib/python3.6/dist-packages (from scikit-plot) (0.22.2.post1)\n",
            "Requirement already satisfied: scipy>=0.9 in /usr/local/lib/python3.6/dist-packages (from scikit-plot) (1.4.1)\n",
            "Requirement already satisfied: joblib>=0.10 in /usr/local/lib/python3.6/dist-packages (from scikit-plot) (0.14.1)\n",
            "Requirement already satisfied: cycler>=0.10 in /usr/local/lib/python3.6/dist-packages (from matplotlib>=1.4.0->scikit-plot) (0.10.0)\n",
            "Requirement already satisfied: kiwisolver>=1.0.1 in /usr/local/lib/python3.6/dist-packages (from matplotlib>=1.4.0->scikit-plot) (1.2.0)\n",
            "Requirement already satisfied: pyparsing!=2.0.4,!=2.1.2,!=2.1.6,>=2.0.1 in /usr/local/lib/python3.6/dist-packages (from matplotlib>=1.4.0->scikit-plot) (2.4.7)\n",
            "Requirement already satisfied: python-dateutil>=2.1 in /usr/local/lib/python3.6/dist-packages (from matplotlib>=1.4.0->scikit-plot) (2.8.1)\n",
            "Requirement already satisfied: numpy>=1.11 in /usr/local/lib/python3.6/dist-packages (from matplotlib>=1.4.0->scikit-plot) (1.18.4)\n",
            "Requirement already satisfied: six in /usr/local/lib/python3.6/dist-packages (from cycler>=0.10->matplotlib>=1.4.0->scikit-plot) (1.12.0)\n",
            "Installing collected packages: scikit-plot\n",
            "Successfully installed scikit-plot-0.3.7\n"
          ],
          "name": "stdout"
        }
      ]
    },
    {
      "cell_type": "code",
      "metadata": {
        "id": "JMYf6jqOeN12",
        "colab_type": "code",
        "outputId": "c05b9e80-ed9b-42d4-f0e1-1b095a44feb9",
        "colab": {
          "base_uri": "https://localhost:8080/",
          "height": 134
        }
      },
      "source": [
        "import pandas as pd\n",
        "import re\n",
        "import nltk\n",
        "nltk.download('punkt')\n",
        "from nltk.tokenize import word_tokenize\n",
        "from nltk.corpus import stopwords\n",
        "nltk.download('stopwords')\n",
        "nltk.download('wordnet')\n",
        "from nltk.stem import WordNetLemmatizer \n",
        "lemmatizer = WordNetLemmatizer() \n",
        "from tqdm import tqdm\n",
        "import pickle\n",
        "from collections import Counter\n",
        "import operator\n",
        "import matplotlib.pyplot as plt\n",
        "from sklearn.model_selection import train_test_split\n",
        "import numpy as np\n",
        "from sklearn.metrics import confusion_matrix\n",
        "from sklearn import metrics\n",
        "import warnings\n",
        "warnings.filterwarnings(\"ignore\")\n",
        "from keras.models import Sequential\n",
        "from keras.layers import Dense\n",
        "from keras.layers import LSTM\n",
        "from keras.layers.embeddings import Embedding\n",
        "from keras.preprocessing import sequence\n",
        "from keras.layers import Dropout\n",
        "from IPython.display import display\n",
        "import keras_metrics\n",
        "import keras\n",
        "import matplotlib.pyplot as plt\n",
        "from keras.models import load_model\n",
        "from keras.callbacks import ModelCheckpoint, EarlyStopping\n",
        "import scikitplot as skplt\n",
        "from keras.layers import Dense, Dropout, Embedding, LSTM, Bidirectional"
      ],
      "execution_count": 3,
      "outputs": [
        {
          "output_type": "stream",
          "text": [
            "[nltk_data] Downloading package punkt to /root/nltk_data...\n",
            "[nltk_data]   Unzipping tokenizers/punkt.zip.\n",
            "[nltk_data] Downloading package stopwords to /root/nltk_data...\n",
            "[nltk_data]   Unzipping corpora/stopwords.zip.\n",
            "[nltk_data] Downloading package wordnet to /root/nltk_data...\n",
            "[nltk_data]   Unzipping corpora/wordnet.zip.\n"
          ],
          "name": "stdout"
        },
        {
          "output_type": "stream",
          "text": [
            "Using TensorFlow backend.\n"
          ],
          "name": "stderr"
        }
      ]
    },
    {
      "cell_type": "markdown",
      "metadata": {
        "id": "MLpfVavJed_K",
        "colab_type": "text"
      },
      "source": [
        "## **READING THE DATA**"
      ]
    },
    {
      "cell_type": "code",
      "metadata": {
        "id": "imJUcTb1eeVL",
        "colab_type": "code",
        "outputId": "9af7cb46-6731-4a6a-f16a-de085f51fe84",
        "colab": {
          "base_uri": "https://localhost:8080/",
          "height": 196
        }
      },
      "source": [
        "total_data = pd.read_csv(\"/content/drive/My Drive/IR_PROJECT/facts_opinions.csv\")\n",
        "total_data.head()"
      ],
      "execution_count": 0,
      "outputs": [
        {
          "output_type": "execute_result",
          "data": {
            "text/html": [
              "<div>\n",
              "<style scoped>\n",
              "    .dataframe tbody tr th:only-of-type {\n",
              "        vertical-align: middle;\n",
              "    }\n",
              "\n",
              "    .dataframe tbody tr th {\n",
              "        vertical-align: top;\n",
              "    }\n",
              "\n",
              "    .dataframe thead th {\n",
              "        text-align: right;\n",
              "    }\n",
              "</style>\n",
              "<table border=\"1\" class=\"dataframe\">\n",
              "  <thead>\n",
              "    <tr style=\"text-align: right;\">\n",
              "      <th></th>\n",
              "      <th>Text</th>\n",
              "      <th>Label</th>\n",
              "    </tr>\n",
              "  </thead>\n",
              "  <tbody>\n",
              "    <tr>\n",
              "      <th>0</th>\n",
              "      <td>One of the other reviewers has mentioned that ...</td>\n",
              "      <td>0</td>\n",
              "    </tr>\n",
              "    <tr>\n",
              "      <th>1</th>\n",
              "      <td>A wonderful little production. &lt;br /&gt;&lt;br /&gt;The...</td>\n",
              "      <td>0</td>\n",
              "    </tr>\n",
              "    <tr>\n",
              "      <th>2</th>\n",
              "      <td>I thought this was a wonderful way to spend ti...</td>\n",
              "      <td>0</td>\n",
              "    </tr>\n",
              "    <tr>\n",
              "      <th>3</th>\n",
              "      <td>Basically there's a family where a little boy ...</td>\n",
              "      <td>0</td>\n",
              "    </tr>\n",
              "    <tr>\n",
              "      <th>4</th>\n",
              "      <td>Petter Mattei's \"Love in the Time of Money\" is...</td>\n",
              "      <td>0</td>\n",
              "    </tr>\n",
              "  </tbody>\n",
              "</table>\n",
              "</div>"
            ],
            "text/plain": [
              "                                                Text  Label\n",
              "0  One of the other reviewers has mentioned that ...      0\n",
              "1  A wonderful little production. <br /><br />The...      0\n",
              "2  I thought this was a wonderful way to spend ti...      0\n",
              "3  Basically there's a family where a little boy ...      0\n",
              "4  Petter Mattei's \"Love in the Time of Money\" is...      0"
            ]
          },
          "metadata": {
            "tags": []
          },
          "execution_count": 12
        }
      ]
    },
    {
      "cell_type": "markdown",
      "metadata": {
        "id": "apULqVzrlN4H",
        "colab_type": "text"
      },
      "source": [
        "## **CLASS-WISE COUNT OF SAMPLES IN THE ENTIRE DATA**"
      ]
    },
    {
      "cell_type": "code",
      "metadata": {
        "id": "wlbBGwUglS_n",
        "colab_type": "code",
        "outputId": "28d94415-d949-4914-e726-8a28253d1f05",
        "colab": {
          "base_uri": "https://localhost:8080/",
          "height": 265
        }
      },
      "source": [
        "total_data['Label'].value_counts().plot(kind='bar')\n",
        "plt.grid()\n",
        "plt.xticks([0,1],[\"Opinions(0)\",\"Facts(1)\"],rotation=360)\n",
        "plt.ylabel(\"Count of Samples\")\n",
        "plt.show()"
      ],
      "execution_count": 0,
      "outputs": [
        {
          "output_type": "display_data",
          "data": {
            "image/png": "[encoded data removed]",
            "text/plain": [
              "<Figure size 432x288 with 1 Axes>"
            ]
          },
          "metadata": {
            "tags": [],
            "needs_background": "light"
          }
        }
      ]
    },
    {
      "cell_type": "markdown",
      "metadata": {
        "id": "LJRLRsVVhS80",
        "colab_type": "text"
      },
      "source": [
        "## **DATA PREPROCESSING**\n"
      ]
    },
    {
      "cell_type": "code",
      "metadata": {
        "id": "7d4RaaRcfli7",
        "colab_type": "code",
        "colab": {}
      },
      "source": [
        "def preproc(data):\n",
        "  stopword=\"\"\n",
        "  cleantext = \" \"\n",
        "  stopword = set(stopwords.words('english'))\n",
        "  for i in word_tokenize(data):\n",
        "    if(any(j.isdigit() for j in i)): ## checking if the word has any numerics...\n",
        "      continue\n",
        "    i=i.lower()\n",
        "    if (i not in stopword) and (len(i)>2):\n",
        "      pattern1 = '[!.?$\\[\\]/\\}#=<>\"\\*:,|_~;()^\\']'\n",
        "      pattern2 = '[\\n\\n]+'\n",
        "      pattern3 = '[\\ \\ ]+'\n",
        "      wout_sc = re.sub(pattern1,'',i) #removing special characters\n",
        "      wout_el = re.sub(pattern2,'\\n',wout_sc) # removing empty lines (which are greater than 2)\n",
        "      wout_mspaces = re.sub(pattern3,' ',wout_el) # removing multiple spaces\n",
        "      cleaned_text = wout_mspaces.strip()\n",
        "      cleaned_text=lemmatizer.lemmatize(cleaned_text)\n",
        "      if (i not in stopword) and (len(i)>2):\n",
        "        cleantext = cleantext+cleaned_text+\" \"\n",
        "  return cleantext.strip()"
      ],
      "execution_count": 0,
      "outputs": []
    },
    {
      "cell_type": "code",
      "metadata": {
        "id": "yscZrOvel80N",
        "colab_type": "code",
        "outputId": "75fadce6-01b0-48df-da38-5b09f7c67f69",
        "colab": {
          "base_uri": "https://localhost:8080/",
          "height": 33
        }
      },
      "source": [
        "for i in tqdm(range(len(total_data)),leave=True,position=0):\n",
        "  total_data.iloc[i,0] = preproc(total_data.iloc[i,0])"
      ],
      "execution_count": 0,
      "outputs": [
        {
          "output_type": "stream",
          "text": [
            "100%|██████████| 94379/94379 [13:28<00:00, 116.68it/s]\n"
          ],
          "name": "stderr"
        }
      ]
    },
    {
      "cell_type": "markdown",
      "metadata": {
        "id": "-1ikOjea1v6C",
        "colab_type": "text"
      },
      "source": [
        "## **PREPROCESSED DATA PICKLED**"
      ]
    },
    {
      "cell_type": "code",
      "metadata": {
        "id": "qXq1jG0M1T1q",
        "colab_type": "code",
        "colab": {}
      },
      "source": [
        "#pickle_out = open(\"/content/drive/My Drive/IR_PROJECT/facts_opinions_ppdata.csv\",\"wb\")\n",
        "#pickle.dump(total_data, pickle_out)"
      ],
      "execution_count": 0,
      "outputs": []
    },
    {
      "cell_type": "markdown",
      "metadata": {
        "id": "vYsQ5pnf6_MS",
        "colab_type": "text"
      },
      "source": [
        "## **LOADING THE PREPROCESSED DATA**"
      ]
    },
    {
      "cell_type": "code",
      "metadata": {
        "id": "QbkO5gwh6_qX",
        "colab_type": "code",
        "colab": {}
      },
      "source": [
        "pickle_in = open(\"/content/drive/My Drive/IR_PROJECT/facts_opinions_ppdata.csv\",\"rb\")\n",
        "total_data = pickle.load(pickle_in)"
      ],
      "execution_count": 0,
      "outputs": []
    },
    {
      "cell_type": "markdown",
      "metadata": {
        "id": "udIXVlIXqjMI",
        "colab_type": "text"
      },
      "source": [
        "## **DATA AFTER PRE-PROCESSING**"
      ]
    },
    {
      "cell_type": "code",
      "metadata": {
        "id": "zHdJIqJzrkZ1",
        "colab_type": "code",
        "outputId": "7ea62223-a688-4ca6-cef5-274d94036604",
        "colab": {
          "base_uri": "https://localhost:8080/",
          "height": 195
        }
      },
      "source": [
        "total_data.head()"
      ],
      "execution_count": 5,
      "outputs": [
        {
          "output_type": "execute_result",
          "data": {
            "text/html": [
              "<div>\n",
              "<style scoped>\n",
              "    .dataframe tbody tr th:only-of-type {\n",
              "        vertical-align: middle;\n",
              "    }\n",
              "\n",
              "    .dataframe tbody tr th {\n",
              "        vertical-align: top;\n",
              "    }\n",
              "\n",
              "    .dataframe thead th {\n",
              "        text-align: right;\n",
              "    }\n",
              "</style>\n",
              "<table border=\"1\" class=\"dataframe\">\n",
              "  <thead>\n",
              "    <tr style=\"text-align: right;\">\n",
              "      <th></th>\n",
              "      <th>Text</th>\n",
              "      <th>Label</th>\n",
              "    </tr>\n",
              "  </thead>\n",
              "  <tbody>\n",
              "    <tr>\n",
              "      <th>0</th>\n",
              "      <td>one reviewer mentioned watching episode hooked...</td>\n",
              "      <td>0</td>\n",
              "    </tr>\n",
              "    <tr>\n",
              "      <th>1</th>\n",
              "      <td>wonderful little production filming technique ...</td>\n",
              "      <td>0</td>\n",
              "    </tr>\n",
              "    <tr>\n",
              "      <th>2</th>\n",
              "      <td>thought wonderful way spend time hot summer we...</td>\n",
              "      <td>0</td>\n",
              "    </tr>\n",
              "    <tr>\n",
              "      <th>3</th>\n",
              "      <td>basically family little boy jake think zombie ...</td>\n",
              "      <td>0</td>\n",
              "    </tr>\n",
              "    <tr>\n",
              "      <th>4</th>\n",
              "      <td>petter mattei love time money visually stunnin...</td>\n",
              "      <td>0</td>\n",
              "    </tr>\n",
              "  </tbody>\n",
              "</table>\n",
              "</div>"
            ],
            "text/plain": [
              "                                                Text  Label\n",
              "0  one reviewer mentioned watching episode hooked...      0\n",
              "1  wonderful little production filming technique ...      0\n",
              "2  thought wonderful way spend time hot summer we...      0\n",
              "3  basically family little boy jake think zombie ...      0\n",
              "4  petter mattei love time money visually stunnin...      0"
            ]
          },
          "metadata": {
            "tags": []
          },
          "execution_count": 5
        }
      ]
    },
    {
      "cell_type": "markdown",
      "metadata": {
        "id": "6YYY25xw77af",
        "colab_type": "text"
      },
      "source": [
        "## **SEPERATING OUT TEXT AND CORRESPONDING LABELS**"
      ]
    },
    {
      "cell_type": "code",
      "metadata": {
        "id": "xPGbO2kg8AqY",
        "colab_type": "code",
        "colab": {}
      },
      "source": [
        "data_y = pd.DataFrame(data=total_data['Label'],columns=['Label'])\n",
        "data_x = total_data.drop(columns=\"Label\")"
      ],
      "execution_count": 0,
      "outputs": []
    },
    {
      "cell_type": "code",
      "metadata": {
        "id": "zzJ6lpZp8oaJ",
        "colab_type": "code",
        "outputId": "a4b2593b-9f14-4f8c-a0dc-838667fc5b9d",
        "colab": {
          "base_uri": "https://localhost:8080/",
          "height": 34
        }
      },
      "source": [
        "data_y.columns,data_x.columns"
      ],
      "execution_count": 7,
      "outputs": [
        {
          "output_type": "execute_result",
          "data": {
            "text/plain": [
              "(Index(['Label'], dtype='object'), Index(['Text'], dtype='object'))"
            ]
          },
          "metadata": {
            "tags": []
          },
          "execution_count": 7
        }
      ]
    },
    {
      "cell_type": "markdown",
      "metadata": {
        "id": "sNXy9Tqgq4Cz",
        "colab_type": "text"
      },
      "source": [
        "## **PERFORMING TRAIN-CV-TEST SPLITS**"
      ]
    },
    {
      "cell_type": "code",
      "metadata": {
        "id": "813irARBq_mc",
        "colab_type": "code",
        "outputId": "65edd87f-ea65-4e35-96a1-d9e0aa1a2bc9",
        "colab": {
          "base_uri": "https://localhost:8080/",
          "height": 118
        }
      },
      "source": [
        "x_train,x_test,y_train,y_test = train_test_split(data_x,data_y,train_size=0.95,random_state=42)\n",
        "x_train,x_cv,y_train,y_cv = train_test_split(x_train,y_train,train_size=0.95,random_state=42)\n",
        "print(\"Shape of X_Train::\",x_train.shape)\n",
        "print(\"Shape of X_Cv::\",x_cv.shape)\n",
        "print(\"Shape of X_Test::\",x_test.shape)\n",
        "print(\"Shape of Y_Train::\",y_train.shape)\n",
        "print(\"Shape of Y_Cv::\",y_cv.shape)\n",
        "print(\"Shape of Y_Test::\",y_test.shape)"
      ],
      "execution_count": 8,
      "outputs": [
        {
          "output_type": "stream",
          "text": [
            "Shape of X_Train:: (85177, 1)\n",
            "Shape of X_Cv:: (4483, 1)\n",
            "Shape of X_Test:: (4719, 1)\n",
            "Shape of Y_Train:: (85177, 1)\n",
            "Shape of Y_Cv:: (4483, 1)\n",
            "Shape of Y_Test:: (4719, 1)\n"
          ],
          "name": "stdout"
        }
      ]
    },
    {
      "cell_type": "markdown",
      "metadata": {
        "id": "JHgmQA-cMnq1",
        "colab_type": "text"
      },
      "source": [
        "## **WRITING TEST DATA INTO CSV FOR VERIFICATION DURING DEPLOYMENT**"
      ]
    },
    {
      "cell_type": "code",
      "metadata": {
        "id": "4-_wMFSwMHE2",
        "colab_type": "code",
        "colab": {}
      },
      "source": [
        "x_test.to_csv(\"/content/drive/My Drive/IR_PROJECT/x_test.csv\",index=False)\n",
        "y_test.to_csv(\"/content/drive/My Drive/IR_PROJECT/y_test.csv\",index=False)"
      ],
      "execution_count": 0,
      "outputs": []
    },
    {
      "cell_type": "markdown",
      "metadata": {
        "id": "VIq2eiXL-w7Z",
        "colab_type": "text"
      },
      "source": [
        "## **CLASS-WISE COUNT OF SAMPLES IN TRAINING DATA**"
      ]
    },
    {
      "cell_type": "code",
      "metadata": {
        "id": "OSZ9GA2V-I1M",
        "colab_type": "code",
        "outputId": "db7406b2-86d2-41c5-ac01-ea2041ac950b",
        "colab": {
          "base_uri": "https://localhost:8080/",
          "height": 265
        }
      },
      "source": [
        "y_train['Label'].value_counts().plot(kind='bar')\n",
        "plt.grid()\n",
        "plt.xticks([0,1],[\"Opinions(0)\",\"Facts(1)\"],rotation=360)\n",
        "plt.ylabel(\"Count of Samples\")\n",
        "plt.show()\n",
        "plt.show()"
      ],
      "execution_count": 0,
      "outputs": [
        {
          "output_type": "display_data",
          "data": {
            "image/png": "[encoded data removed]",
            "text/plain": [
              "<Figure size 432x288 with 1 Axes>"
            ]
          },
          "metadata": {
            "tags": [],
            "needs_background": "light"
          }
        }
      ]
    },
    {
      "cell_type": "markdown",
      "metadata": {
        "id": "9OnLofPq_AZH",
        "colab_type": "text"
      },
      "source": [
        "## **CLASS-WISE COUNT OF SAMPLES IN CV DATA**"
      ]
    },
    {
      "cell_type": "code",
      "metadata": {
        "id": "pc0o9FTU-Q-n",
        "colab_type": "code",
        "outputId": "10215865-aabb-4073-a8da-625e3dffbc83",
        "colab": {
          "base_uri": "https://localhost:8080/",
          "height": 265
        }
      },
      "source": [
        "y_cv['Label'].value_counts().plot(kind='bar')\n",
        "plt.grid()\n",
        "plt.xticks([0,1],[\"Opinions(0)\",\"Facts(1)\"],rotation=360)\n",
        "plt.ylabel(\"Count of Samples\")\n",
        "plt.show()\n",
        "plt.show()"
      ],
      "execution_count": 0,
      "outputs": [
        {
          "output_type": "display_data",
          "data": {
            "image/png": "[encoded data removed]",
            "text/plain": [
              "<Figure size 432x288 with 1 Axes>"
            ]
          },
          "metadata": {
            "tags": [],
            "needs_background": "light"
          }
        }
      ]
    },
    {
      "cell_type": "markdown",
      "metadata": {
        "id": "w9gIDxoF-5Qj",
        "colab_type": "text"
      },
      "source": [
        "## **CLASS-WISE COUNT OF SAMPLES IN TEST DATA**"
      ]
    },
    {
      "cell_type": "code",
      "metadata": {
        "id": "GVyVNjY6-5gf",
        "colab_type": "code",
        "outputId": "43d7978a-0ac5-40c2-fdf4-21ecb5ada6ae",
        "colab": {
          "base_uri": "https://localhost:8080/",
          "height": 265
        }
      },
      "source": [
        "y_test['Label'].value_counts().plot(kind='bar')\n",
        "plt.grid()\n",
        "plt.xticks([0,1],[\"Opinions(0)\",\"Facts(1)\"],rotation=360)\n",
        "plt.ylabel(\"Count of Samples\")\n",
        "plt.show()\n",
        "plt.show()"
      ],
      "execution_count": 0,
      "outputs": [
        {
          "output_type": "display_data",
          "data": {
            "image/png": "[encoded data removed]",
            "text/plain": [
              "<Figure size 432x288 with 1 Axes>"
            ]
          },
          "metadata": {
            "tags": [],
            "needs_background": "light"
          }
        }
      ]
    },
    {
      "cell_type": "markdown",
      "metadata": {
        "id": "vGNtonLFDQkf",
        "colab_type": "text"
      },
      "source": [
        "## **MAXIMUM LENGTH OF THE TEXT IN TRAINING DATA**"
      ]
    },
    {
      "cell_type": "code",
      "metadata": {
        "id": "Hbq-aFVqA-1z",
        "colab_type": "code",
        "outputId": "d5ec4eb3-28ef-4efd-ac6c-ae765a50fca1",
        "colab": {
          "base_uri": "https://localhost:8080/",
          "height": 34
        }
      },
      "source": [
        "max_len=0\n",
        "l=[]\n",
        "index=[]\n",
        "for i in range(len(x_train)):\n",
        "  cur_len = len(x_train.iloc[i,0].split())\n",
        "  if(cur_len>max_len):\n",
        "    max_len=cur_len\n",
        "print(\"Maximum length of sentence::\",max_len)"
      ],
      "execution_count": 0,
      "outputs": [
        {
          "output_type": "stream",
          "text": [
            "Maximum length of sentence:: 1383\n"
          ],
          "name": "stdout"
        }
      ]
    },
    {
      "cell_type": "markdown",
      "metadata": {
        "id": "JrLDLjiaRkkt",
        "colab_type": "text"
      },
      "source": [
        "## **GENEARTING VOCABULARY FROM TRAINING DATA**"
      ]
    },
    {
      "cell_type": "code",
      "metadata": {
        "id": "3AepD9krR0Qf",
        "colab_type": "code",
        "outputId": "10174484-5005-41b0-f302-a2e8d2f8e9c4",
        "colab": {
          "base_uri": "https://localhost:8080/",
          "height": 34
        }
      },
      "source": [
        "vocab={}\n",
        "for i in tqdm(x_train['Text'],position=0,leave=True):\n",
        "  for j in i.split():\n",
        "    if j not in vocab:\n",
        "      vocab[j]=1\n",
        "    else:\n",
        "      vocab[j]+=1\n",
        "vocab = sorted(vocab, key=vocab.get, reverse=True)"
      ],
      "execution_count": 0,
      "outputs": [
        {
          "output_type": "stream",
          "text": [
            "100%|██████████| 85177/85177 [00:02<00:00, 31484.50it/s]\n"
          ],
          "name": "stderr"
        }
      ]
    },
    {
      "cell_type": "markdown",
      "metadata": {
        "id": "JWK-oAbe_rKR",
        "colab_type": "text"
      },
      "source": [
        "## **VECTORIZING THE DATA**"
      ]
    },
    {
      "cell_type": "code",
      "metadata": {
        "id": "0XTV1g1-_u_1",
        "colab_type": "code",
        "colab": {}
      },
      "source": [
        "def vectorize(data,vocab):\n",
        "  print(\"\\nGenerating Vectors......\")\n",
        "  max_seq_len=1400\n",
        "  row=0\n",
        "  ## converting sequence to vector...\n",
        "  new_data = pd.DataFrame(columns=[\"Text\"])\n",
        "  for i in tqdm(data['Text'],position=0,leave=True):\n",
        "    sent=[]\n",
        "    for j in i.split():\n",
        "      try:\n",
        "        sent.append((vocab.index(j))+1)\n",
        "      except:\n",
        "        continue\n",
        "    new_data.loc[row] = [sent]\n",
        "    row+=1\n",
        "  new_data = sequence.pad_sequences(new_data['Text'], maxlen=max_seq_len)\n",
        "  return new_data ## if its CV/TEST data we return the numerical vectors computed w.r.t training vocab"
      ],
      "execution_count": 0,
      "outputs": []
    },
    {
      "cell_type": "code",
      "metadata": {
        "id": "FVZd4xMBAAk1",
        "colab_type": "code",
        "outputId": "25d698c0-6ba0-4728-aded-9718aa1842b5",
        "colab": {
          "base_uri": "https://localhost:8080/",
          "height": 168
        }
      },
      "source": [
        "x_train_vec = vectorize(x_train,vocab)\n",
        "x_cv_vec = vectorize(x_cv,vocab)\n",
        "x_test_vec = vectorize(x_test,vocab)"
      ],
      "execution_count": 0,
      "outputs": [
        {
          "output_type": "stream",
          "text": [
            "  0%|          | 10/85177 [00:00<14:44, 96.31it/s]"
          ],
          "name": "stderr"
        },
        {
          "output_type": "stream",
          "text": [
            "\n",
            "Generating Vectors......\n"
          ],
          "name": "stdout"
        },
        {
          "output_type": "stream",
          "text": [
            "100%|██████████| 85177/85177 [23:10<00:00, 61.26it/s]\n",
            "  0%|          | 6/4483 [00:00<01:45, 42.32it/s]"
          ],
          "name": "stderr"
        },
        {
          "output_type": "stream",
          "text": [
            "\n",
            "Generating Vectors......\n"
          ],
          "name": "stdout"
        },
        {
          "output_type": "stream",
          "text": [
            "100%|██████████| 4483/4483 [01:23<00:00, 53.89it/s]\n",
            "  0%|          | 8/4719 [00:00<01:07, 69.88it/s]"
          ],
          "name": "stderr"
        },
        {
          "output_type": "stream",
          "text": [
            "\n",
            "Generating Vectors......\n"
          ],
          "name": "stdout"
        },
        {
          "output_type": "stream",
          "text": [
            "100%|██████████| 4719/4719 [01:15<00:00, 62.76it/s]\n"
          ],
          "name": "stderr"
        }
      ]
    },
    {
      "cell_type": "markdown",
      "metadata": {
        "id": "IY0_HjPz_j_S",
        "colab_type": "text"
      },
      "source": [
        "## **THE LSTM ARCHITECTURE**"
      ]
    },
    {
      "cell_type": "code",
      "metadata": {
        "id": "HEC95JIn-9Ou",
        "colab_type": "code",
        "outputId": "e51b2802-606d-47f6-9291-63b9c2028cfe",
        "colab": {
          "base_uri": "https://localhost:8080/",
          "height": 235
        }
      },
      "source": [
        "lstm_model = Sequential()\n",
        "lstm_model.add(Embedding(1+len(vocab),20,input_length=1400)) #taking whole length of vocab\n",
        "lstm_model.add(LSTM(20))\n",
        "lstm_model.add(Dense(2, activation='softmax'))\n",
        "checkpoint = ModelCheckpoint('/content/drive/My Drive/IR_PROJECT/saved models/model-{epoch:03d}-{acc:03f}-{val_acc:03f}.h5', verbose=1, monitor='val_loss',save_best_only=True, mode='auto')  \n",
        "lstm_model.compile(loss='binary_crossentropy', optimizer=keras.optimizers.Adam(0.01), metrics=['acc'])\n",
        "values=lstm_model.fit(x_train_vec,keras.utils.to_categorical(y_train,num_classes=2),nb_epoch=3,batch_size=1000,validation_data=(x_cv_vec,keras.utils.to_categorical(y_cv,num_classes=2)),callbacks=[checkpoint])"
      ],
      "execution_count": 0,
      "outputs": [
        {
          "output_type": "stream",
          "text": [
            "Train on 85177 samples, validate on 4483 samples\n",
            "Epoch 1/3\n",
            "85177/85177 [==============================] - 334s 4ms/step - loss: 0.1268 - acc: 0.9460 - val_loss: 0.0549 - val_acc: 0.9837\n",
            "\n",
            "Epoch 00001: val_loss improved from inf to 0.05487, saving model to /content/drive/My Drive/IR_PROJECT/saved models/model-001-0.946042-0.983716.h5\n",
            "Epoch 2/3\n",
            "85177/85177 [==============================] - 343s 4ms/step - loss: 0.0248 - acc: 0.9931 - val_loss: 0.0424 - val_acc: 0.9862\n",
            "\n",
            "Epoch 00002: val_loss improved from 0.05487 to 0.04245, saving model to /content/drive/My Drive/IR_PROJECT/saved models/model-002-0.993085-0.986170.h5\n",
            "Epoch 3/3\n",
            "85177/85177 [==============================] - 345s 4ms/step - loss: 0.0086 - acc: 0.9979 - val_loss: 0.0520 - val_acc: 0.9873\n",
            "\n",
            "Epoch 00003: val_loss did not improve from 0.04245\n"
          ],
          "name": "stdout"
        }
      ]
    },
    {
      "cell_type": "markdown",
      "metadata": {
        "id": "s1PZ5t-beC-c",
        "colab_type": "text"
      },
      "source": [
        "## **EPOCHS V/S LOSS**"
      ]
    },
    {
      "cell_type": "code",
      "metadata": {
        "id": "YIQBW-2EeDoE",
        "colab_type": "code",
        "outputId": "3e842a31-a576-499d-e577-7fdf68118f47",
        "colab": {
          "base_uri": "https://localhost:8080/",
          "height": 283
        }
      },
      "source": [
        "plt.plot(values.history['loss'],label = \"Training Loss\")\n",
        "plt.plot(values.history['val_loss'],label = \"Cross Validation Loss\")\n",
        "plt.ylim([0,0.60])\n",
        "plt.xlabel(\"Epochs\")\n",
        "plt.ylabel(\"Loss\")\n",
        "plt.grid()\n",
        "plt.legend()\n",
        "plt.show()"
      ],
      "execution_count": 0,
      "outputs": [
        {
          "output_type": "display_data",
          "data": {
            "image/png": "[encoded data removed]",
            "text/plain": [
              "<Figure size 432x288 with 1 Axes>"
            ]
          },
          "metadata": {
            "tags": [],
            "needs_background": "light"
          }
        }
      ]
    },
    {
      "cell_type": "markdown",
      "metadata": {
        "id": "YgUFqEDDeB0T",
        "colab_type": "text"
      },
      "source": [
        "## **EPOCHS V/S ACCURACY**"
      ]
    },
    {
      "cell_type": "code",
      "metadata": {
        "id": "yfeE9IDDeCQM",
        "colab_type": "code",
        "outputId": "784867b5-c638-496e-a56d-b1671e9a6b1d",
        "colab": {
          "base_uri": "https://localhost:8080/",
          "height": 279
        }
      },
      "source": [
        "plt.plot(values.history['acc'],label = \"Training Accuracy\")\n",
        "plt.plot(values.history['val_acc'],label = \"Cross Validation Accuracy\")\n",
        "plt.xlabel(\"Epochs\")\n",
        "plt.ylabel(\"Accuracy\")\n",
        "plt.ylim([0.900,0.999])\n",
        "plt.grid()\n",
        "plt.legend()\n",
        "plt.show()"
      ],
      "execution_count": 0,
      "outputs": [
        {
          "output_type": "display_data",
          "data": {
            "image/png": "[encoded data removed]",
            "text/plain": [
              "<Figure size 432x288 with 1 Axes>"
            ]
          },
          "metadata": {
            "tags": [],
            "needs_background": "light"
          }
        }
      ]
    },
    {
      "cell_type": "markdown",
      "metadata": {
        "id": "p2jqEGqQd18h",
        "colab_type": "text"
      },
      "source": [
        "## **PERFORMANCE ON TEST DATA**"
      ]
    },
    {
      "cell_type": "markdown",
      "metadata": {
        "id": "7BRxJxEopw6t",
        "colab_type": "text"
      },
      "source": [
        "#### **CONFUSION MATRIX ON TEST DATA**"
      ]
    },
    {
      "cell_type": "code",
      "metadata": {
        "id": "nxwMHz_NJv9z",
        "colab_type": "code",
        "outputId": "9aa1afdb-6a7c-418d-8285-886a3df90961",
        "colab": {
          "base_uri": "https://localhost:8080/",
          "height": 136
        }
      },
      "source": [
        "from sklearn.metrics import confusion_matrix\n",
        "from IPython.display import display\n",
        "classes=[\"Opinions\",\"Facts \"]\n",
        "y_pred = lstm_model.predict_classes(x_test_vec)\n",
        "conf_df = pd.DataFrame(confusion_matrix(y_test,y_pred),columns=classes,index=classes)\n",
        "conf_df.index.name = 'True labels'\n",
        "display(conf_df)"
      ],
      "execution_count": 0,
      "outputs": [
        {
          "output_type": "display_data",
          "data": {
            "text/html": [
              "<div>\n",
              "<style scoped>\n",
              "    .dataframe tbody tr th:only-of-type {\n",
              "        vertical-align: middle;\n",
              "    }\n",
              "\n",
              "    .dataframe tbody tr th {\n",
              "        vertical-align: top;\n",
              "    }\n",
              "\n",
              "    .dataframe thead th {\n",
              "        text-align: right;\n",
              "    }\n",
              "</style>\n",
              "<table border=\"1\" class=\"dataframe\">\n",
              "  <thead>\n",
              "    <tr style=\"text-align: right;\">\n",
              "      <th></th>\n",
              "      <th>Opinions</th>\n",
              "      <th>Facts</th>\n",
              "    </tr>\n",
              "    <tr>\n",
              "      <th>True labels</th>\n",
              "      <th></th>\n",
              "      <th></th>\n",
              "    </tr>\n",
              "  </thead>\n",
              "  <tbody>\n",
              "    <tr>\n",
              "      <th>Opinions</th>\n",
              "      <td>2442</td>\n",
              "      <td>33</td>\n",
              "    </tr>\n",
              "    <tr>\n",
              "      <th>Facts</th>\n",
              "      <td>32</td>\n",
              "      <td>2212</td>\n",
              "    </tr>\n",
              "  </tbody>\n",
              "</table>\n",
              "</div>"
            ],
            "text/plain": [
              "             Opinions  Facts \n",
              "True labels                  \n",
              "Opinions         2442      33\n",
              "Facts              32    2212"
            ]
          },
          "metadata": {
            "tags": []
          }
        }
      ]
    },
    {
      "cell_type": "markdown",
      "metadata": {
        "id": "qEaK2vOIp4f4",
        "colab_type": "text"
      },
      "source": [
        "#### **ACCURACY ON TEST DATA**"
      ]
    },
    {
      "cell_type": "code",
      "metadata": {
        "id": "p7aOFBkzp73k",
        "colab_type": "code",
        "outputId": "9a28be7b-740a-482e-e549-9285f4eb053f",
        "colab": {
          "base_uri": "https://localhost:8080/",
          "height": 34
        }
      },
      "source": [
        "numer = conf_df.iloc[0,0]+conf_df.iloc[1,1]\n",
        "denom = conf_df.iloc[0,0]+conf_df.iloc[0,1]+conf_df.iloc[1,0]+conf_df.iloc[1,1]\n",
        "print(\"Accuracy on Test Data::\",100*numer/denom)"
      ],
      "execution_count": 0,
      "outputs": [
        {
          "output_type": "stream",
          "text": [
            "Accuracy on Test Data:: 98.62258953168045\n"
          ],
          "name": "stdout"
        }
      ]
    },
    {
      "cell_type": "markdown",
      "metadata": {
        "id": "gz7x_WurAs-x",
        "colab_type": "text"
      },
      "source": [
        "## **VOCABULARY WRITTEN TO A PICKLE FILE**"
      ]
    },
    {
      "cell_type": "code",
      "metadata": {
        "id": "4VT-H_kb6Ibb",
        "colab_type": "code",
        "colab": {}
      },
      "source": [
        "#pickle_out = open(\"/content/drive/My Drive/IR_PROJECT/vocab\",\"wb\")\n",
        "#pickle.dump(vocab, pickle_out)"
      ],
      "execution_count": 0,
      "outputs": []
    },
    {
      "cell_type": "code",
      "metadata": {
        "id": "e_6Y9d1L6ZTF",
        "colab_type": "code",
        "colab": {}
      },
      "source": [
        "pickle_in = open(\"/content/drive/My Drive/IR_PROJECT/vocab\",\"rb\")\n",
        "vocab2 = pickle.load(pickle_in)"
      ],
      "execution_count": 0,
      "outputs": []
    },
    {
      "cell_type": "markdown",
      "metadata": {
        "id": "wruGVCigA1JI",
        "colab_type": "text"
      },
      "source": [
        "## **SAVING THE MODEL**"
      ]
    },
    {
      "cell_type": "code",
      "metadata": {
        "id": "iEw-uah9_51g",
        "colab_type": "code",
        "colab": {}
      },
      "source": [
        "#pickle_out = open(\"/content/drive/My Drive/IR_PROJECT/saved models/LSTM_model_2\",\"wb\")\n",
        "#pickle.dump(lstm_model, pickle_out)"
      ],
      "execution_count": 0,
      "outputs": []
    },
    {
      "cell_type": "code",
      "metadata": {
        "id": "YhbPV5eX_-Tm",
        "colab_type": "code",
        "colab": {}
      },
      "source": [
        "pickle_in = open(\"/content/drive/My Drive/IR_PROJECT/saved models/LSTM_model_2\",\"rb\")\n",
        "lstmtest = pickle.load(pickle_in)"
      ],
      "execution_count": 0,
      "outputs": []
    }
  ]
}